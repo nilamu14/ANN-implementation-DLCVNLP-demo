{
  "nbformat": 4,
  "nbformat_minor": 0,
  "metadata": {
    "colab": {
      "name": "Untitled19.ipynb",
      "provenance": [],
      "authorship_tag": "ABX9TyM9WHQ9L8v7gW5QLcD0kRUx",
      "include_colab_link": true
    },
    "kernelspec": {
      "name": "python3",
      "display_name": "Python 3"
    },
    "language_info": {
      "name": "python"
    }
  },
  "cells": [
    {
      "cell_type": "markdown",
      "metadata": {
        "id": "view-in-github",
        "colab_type": "text"
      },
      "source": [
        "<a href=\"https://colab.research.google.com/github/nilamu14/ANN-implementation-DLCVNLP-demo/blob/main/Untitled19.ipynb\" target=\"_parent\"><img src=\"https://colab.research.google.com/assets/colab-badge.svg\" alt=\"Open In Colab\"/></a>"
      ]
    },
    {
      "cell_type": "code",
      "metadata": {
        "colab": {
          "base_uri": "https://localhost:8080/"
        },
        "id": "YAVgG1QAC975",
        "outputId": "af9a2c5d-51f5-4942-9cf0-e6253304accf"
      },
      "source": [
        "! pip install orion-ml\n",
        "! pip install 'urllib3!=1.25.0,!=1.25.1,<1.26,>=1.21.1'"
      ],
      "execution_count": 1,
      "outputs": [
        {
          "output_type": "stream",
          "name": "stdout",
          "text": [
            "Requirement already satisfied: orion-ml in /usr/local/lib/python3.7/dist-packages (0.2.0)\n",
            "Requirement already satisfied: pandas<0.25,>=0.23.4 in /usr/local/lib/python3.7/dist-packages (from orion-ml) (0.24.2)\n",
            "Requirement already satisfied: xlsxwriter>=1.3.6<1.4 in /usr/local/lib/python3.7/dist-packages (from orion-ml) (3.0.2)\n",
            "Requirement already satisfied: numba<0.52,>=0.48 in /usr/local/lib/python3.7/dist-packages (from orion-ml) (0.51.2)\n",
            "Requirement already satisfied: mlblocks<0.4,>=0.3.0 in /usr/local/lib/python3.7/dist-packages (from orion-ml) (0.3.4)\n",
            "Requirement already satisfied: tabulate<0.9,>=0.8.3 in /usr/local/lib/python3.7/dist-packages (from orion-ml) (0.8.9)\n",
            "Requirement already satisfied: s3fs<0.5,>=0.2.2 in /usr/local/lib/python3.7/dist-packages (from orion-ml) (0.4.2)\n",
            "Requirement already satisfied: Keras<2.4,>=2.1.6 in /usr/local/lib/python3.7/dist-packages (from orion-ml) (2.3.1)\n",
            "Requirement already satisfied: baytune<0.3,>=0.2.3 in /usr/local/lib/python3.7/dist-packages (from orion-ml) (0.2.5)\n",
            "Requirement already satisfied: mlprimitives<0.3,>=0.2.2 in /usr/local/lib/python3.7/dist-packages (from orion-ml) (0.2.5)\n",
            "Requirement already satisfied: scikit-learn<0.21,>=0.20.1 in /usr/local/lib/python3.7/dist-packages (from orion-ml) (0.20.4)\n",
            "Requirement already satisfied: h5py<2.11.0,>=2.10.0 in /usr/local/lib/python3.7/dist-packages (from orion-ml) (2.10.0)\n",
            "Requirement already satisfied: azure-cognitiveservices-anomalydetector<0.4,>=0.3 in /usr/local/lib/python3.7/dist-packages (from orion-ml) (0.3.0)\n",
            "Requirement already satisfied: numpy<1.17,>=1.15.4 in /usr/local/lib/python3.7/dist-packages (from orion-ml) (1.16.6)\n",
            "Requirement already satisfied: mongoengine<0.25,>=0.20.0 in /usr/local/lib/python3.7/dist-packages (from orion-ml) (0.23.1)\n",
            "Requirement already satisfied: pyts<0.11,>=0.9 in /usr/local/lib/python3.7/dist-packages (from orion-ml) (0.10.0)\n",
            "Requirement already satisfied: pymongo<4,>=3.7.2 in /usr/local/lib/python3.7/dist-packages (from orion-ml) (3.12.0)\n",
            "Requirement already satisfied: azure-common~=1.1 in /usr/local/lib/python3.7/dist-packages (from azure-cognitiveservices-anomalydetector<0.4,>=0.3->orion-ml) (1.1.27)\n",
            "Requirement already satisfied: msrest>=0.5.0 in /usr/local/lib/python3.7/dist-packages (from azure-cognitiveservices-anomalydetector<0.4,>=0.3->orion-ml) (0.6.21)\n",
            "Requirement already satisfied: six>=1.0 in /usr/local/lib/python3.7/dist-packages (from baytune<0.3,>=0.2.3->orion-ml) (1.15.0)\n",
            "Requirement already satisfied: scipy>=1.0.1 in /usr/local/lib/python3.7/dist-packages (from baytune<0.3,>=0.2.3->orion-ml) (1.4.1)\n",
            "Requirement already satisfied: pyyaml in /usr/local/lib/python3.7/dist-packages (from Keras<2.4,>=2.1.6->orion-ml) (3.13)\n",
            "Requirement already satisfied: keras-applications>=1.0.6 in /usr/local/lib/python3.7/dist-packages (from Keras<2.4,>=2.1.6->orion-ml) (1.0.8)\n",
            "Requirement already satisfied: keras-preprocessing>=1.0.5 in /usr/local/lib/python3.7/dist-packages (from Keras<2.4,>=2.1.6->orion-ml) (1.1.2)\n",
            "Requirement already satisfied: opencv-python<5,>=3.4.0.12 in /usr/local/lib/python3.7/dist-packages (from mlprimitives<0.3,>=0.2.2->orion-ml) (4.1.2.30)\n",
            "Requirement already satisfied: nltk<4,>=3.3 in /usr/local/lib/python3.7/dist-packages (from mlprimitives<0.3,>=0.2.2->orion-ml) (3.6.5)\n",
            "Requirement already satisfied: scikit-image!=0.14.3,<0.15,>=0.13.1 in /usr/local/lib/python3.7/dist-packages (from mlprimitives<0.3,>=0.2.2->orion-ml) (0.14.5)\n",
            "Requirement already satisfied: statsmodels<1,>=0.9.0 in /usr/local/lib/python3.7/dist-packages (from mlprimitives<0.3,>=0.2.2->orion-ml) (0.10.2)\n",
            "Requirement already satisfied: xgboost<1,>=0.72.1 in /usr/local/lib/python3.7/dist-packages (from mlprimitives<0.3,>=0.2.2->orion-ml) (0.90)\n",
            "Requirement already satisfied: docutils<0.16,>=0.10 in /usr/local/lib/python3.7/dist-packages (from mlprimitives<0.3,>=0.2.2->orion-ml) (0.15.2)\n",
            "Requirement already satisfied: tensorflow<2,>=1.11.0 in /usr/local/lib/python3.7/dist-packages (from mlprimitives<0.3,>=0.2.2->orion-ml) (1.15.5)\n",
            "Requirement already satisfied: lightfm<2,>=1.15 in /usr/local/lib/python3.7/dist-packages (from mlprimitives<0.3,>=0.2.2->orion-ml) (1.16)\n",
            "Requirement already satisfied: featuretools<0.12,>=0.6.1 in /usr/local/lib/python3.7/dist-packages (from mlprimitives<0.3,>=0.2.2->orion-ml) (0.11.0)\n",
            "Requirement already satisfied: networkx<3,>=2.0 in /usr/local/lib/python3.7/dist-packages (from mlprimitives<0.3,>=0.2.2->orion-ml) (2.6.3)\n",
            "Requirement already satisfied: iso639<0.2,>=0.1.4 in /usr/local/lib/python3.7/dist-packages (from mlprimitives<0.3,>=0.2.2->orion-ml) (0.1.4)\n",
            "Requirement already satisfied: python-louvain<0.14,>=0.10 in /usr/local/lib/python3.7/dist-packages (from mlprimitives<0.3,>=0.2.2->orion-ml) (0.13)\n",
            "Requirement already satisfied: setuptools>=41.0.0 in /usr/local/lib/python3.7/dist-packages (from mlprimitives<0.3,>=0.2.2->orion-ml) (57.4.0)\n",
            "Requirement already satisfied: langdetect<2,>=1.0.7 in /usr/local/lib/python3.7/dist-packages (from mlprimitives<0.3,>=0.2.2->orion-ml) (1.0.9)\n",
            "Requirement already satisfied: click>=7.0.0 in /usr/local/lib/python3.7/dist-packages (from featuretools<0.12,>=0.6.1->mlprimitives<0.3,>=0.2.2->orion-ml) (7.1.2)\n",
            "Requirement already satisfied: tqdm>=4.32.0 in /usr/local/lib/python3.7/dist-packages (from featuretools<0.12,>=0.6.1->mlprimitives<0.3,>=0.2.2->orion-ml) (4.62.3)\n",
            "Requirement already satisfied: smart-open>=1.8.4 in /usr/local/lib/python3.7/dist-packages (from featuretools<0.12,>=0.6.1->mlprimitives<0.3,>=0.2.2->orion-ml) (5.2.1)\n",
            "Requirement already satisfied: distributed>=1.24.2 in /usr/local/lib/python3.7/dist-packages (from featuretools<0.12,>=0.6.1->mlprimitives<0.3,>=0.2.2->orion-ml) (1.25.3)\n",
            "Requirement already satisfied: dask>=1.1.0 in /usr/local/lib/python3.7/dist-packages (from featuretools<0.12,>=0.6.1->mlprimitives<0.3,>=0.2.2->orion-ml) (2.12.0)\n",
            "Requirement already satisfied: future>=0.16.0 in /usr/local/lib/python3.7/dist-packages (from featuretools<0.12,>=0.6.1->mlprimitives<0.3,>=0.2.2->orion-ml) (0.16.0)\n",
            "Requirement already satisfied: psutil>=5.4.8 in /usr/local/lib/python3.7/dist-packages (from featuretools<0.12,>=0.6.1->mlprimitives<0.3,>=0.2.2->orion-ml) (5.4.8)\n",
            "Requirement already satisfied: cloudpickle>=0.4.0 in /usr/local/lib/python3.7/dist-packages (from featuretools<0.12,>=0.6.1->mlprimitives<0.3,>=0.2.2->orion-ml) (1.3.0)\n",
            "Requirement already satisfied: msgpack in /usr/local/lib/python3.7/dist-packages (from distributed>=1.24.2->featuretools<0.12,>=0.6.1->mlprimitives<0.3,>=0.2.2->orion-ml) (1.0.2)\n",
            "Requirement already satisfied: sortedcontainers!=2.0.0,!=2.0.1 in /usr/local/lib/python3.7/dist-packages (from distributed>=1.24.2->featuretools<0.12,>=0.6.1->mlprimitives<0.3,>=0.2.2->orion-ml) (2.4.0)\n",
            "Requirement already satisfied: tblib in /usr/local/lib/python3.7/dist-packages (from distributed>=1.24.2->featuretools<0.12,>=0.6.1->mlprimitives<0.3,>=0.2.2->orion-ml) (1.7.0)\n",
            "Requirement already satisfied: toolz>=0.7.4 in /usr/local/lib/python3.7/dist-packages (from distributed>=1.24.2->featuretools<0.12,>=0.6.1->mlprimitives<0.3,>=0.2.2->orion-ml) (0.11.1)\n",
            "Requirement already satisfied: tornado>=4.5.1 in /usr/local/lib/python3.7/dist-packages (from distributed>=1.24.2->featuretools<0.12,>=0.6.1->mlprimitives<0.3,>=0.2.2->orion-ml) (5.1.1)\n",
            "Requirement already satisfied: zict>=0.1.3 in /usr/local/lib/python3.7/dist-packages (from distributed>=1.24.2->featuretools<0.12,>=0.6.1->mlprimitives<0.3,>=0.2.2->orion-ml) (2.0.0)\n",
            "Requirement already satisfied: requests in /usr/local/lib/python3.7/dist-packages (from lightfm<2,>=1.15->mlprimitives<0.3,>=0.2.2->orion-ml) (2.23.0)\n",
            "Requirement already satisfied: isodate>=0.6.0 in /usr/local/lib/python3.7/dist-packages (from msrest>=0.5.0->azure-cognitiveservices-anomalydetector<0.4,>=0.3->orion-ml) (0.6.0)\n",
            "Requirement already satisfied: certifi>=2017.4.17 in /usr/local/lib/python3.7/dist-packages (from msrest>=0.5.0->azure-cognitiveservices-anomalydetector<0.4,>=0.3->orion-ml) (2021.5.30)\n",
            "Requirement already satisfied: requests-oauthlib>=0.5.0 in /usr/local/lib/python3.7/dist-packages (from msrest>=0.5.0->azure-cognitiveservices-anomalydetector<0.4,>=0.3->orion-ml) (1.3.0)\n",
            "Requirement already satisfied: joblib in /usr/local/lib/python3.7/dist-packages (from nltk<4,>=3.3->mlprimitives<0.3,>=0.2.2->orion-ml) (1.0.1)\n",
            "Requirement already satisfied: regex>=2021.8.3 in /usr/local/lib/python3.7/dist-packages (from nltk<4,>=3.3->mlprimitives<0.3,>=0.2.2->orion-ml) (2021.11.2)\n",
            "Requirement already satisfied: llvmlite<0.35,>=0.34.0.dev0 in /usr/local/lib/python3.7/dist-packages (from numba<0.52,>=0.48->orion-ml) (0.34.0)\n",
            "Requirement already satisfied: python-dateutil>=2.5.0 in /usr/local/lib/python3.7/dist-packages (from pandas<0.25,>=0.23.4->orion-ml) (2.8.2)\n",
            "Requirement already satisfied: pytz>=2011k in /usr/local/lib/python3.7/dist-packages (from pandas<0.25,>=0.23.4->orion-ml) (2018.9)\n",
            "Requirement already satisfied: chardet<4,>=3.0.2 in /usr/local/lib/python3.7/dist-packages (from requests->lightfm<2,>=1.15->mlprimitives<0.3,>=0.2.2->orion-ml) (3.0.4)\n",
            "Requirement already satisfied: idna<3,>=2.5 in /usr/local/lib/python3.7/dist-packages (from requests->lightfm<2,>=1.15->mlprimitives<0.3,>=0.2.2->orion-ml) (2.10)\n",
            "Requirement already satisfied: urllib3!=1.25.0,!=1.25.1,<1.26,>=1.21.1 in /usr/local/lib/python3.7/dist-packages (from requests->lightfm<2,>=1.15->mlprimitives<0.3,>=0.2.2->orion-ml) (1.25.11)\n",
            "Requirement already satisfied: oauthlib>=3.0.0 in /usr/local/lib/python3.7/dist-packages (from requests-oauthlib>=0.5.0->msrest>=0.5.0->azure-cognitiveservices-anomalydetector<0.4,>=0.3->orion-ml) (3.1.1)\n",
            "Requirement already satisfied: botocore>=1.12.91 in /usr/local/lib/python3.7/dist-packages (from s3fs<0.5,>=0.2.2->orion-ml) (1.22.9)\n",
            "Requirement already satisfied: fsspec>=0.6.0 in /usr/local/lib/python3.7/dist-packages (from s3fs<0.5,>=0.2.2->orion-ml) (2021.10.1)\n",
            "Requirement already satisfied: jmespath<1.0.0,>=0.7.1 in /usr/local/lib/python3.7/dist-packages (from botocore>=1.12.91->s3fs<0.5,>=0.2.2->orion-ml) (0.10.0)\n",
            "Requirement already satisfied: PyWavelets>=0.4.0 in /usr/local/lib/python3.7/dist-packages (from scikit-image!=0.14.3,<0.15,>=0.13.1->mlprimitives<0.3,>=0.2.2->orion-ml) (1.1.1)\n",
            "Requirement already satisfied: matplotlib>=2.0.0 in /usr/local/lib/python3.7/dist-packages (from scikit-image!=0.14.3,<0.15,>=0.13.1->mlprimitives<0.3,>=0.2.2->orion-ml) (3.2.2)\n",
            "Requirement already satisfied: pillow>=4.3.0 in /usr/local/lib/python3.7/dist-packages (from scikit-image!=0.14.3,<0.15,>=0.13.1->mlprimitives<0.3,>=0.2.2->orion-ml) (7.1.2)\n",
            "Requirement already satisfied: pyparsing!=2.0.4,!=2.1.2,!=2.1.6,>=2.0.1 in /usr/local/lib/python3.7/dist-packages (from matplotlib>=2.0.0->scikit-image!=0.14.3,<0.15,>=0.13.1->mlprimitives<0.3,>=0.2.2->orion-ml) (2.4.7)\n",
            "Requirement already satisfied: kiwisolver>=1.0.1 in /usr/local/lib/python3.7/dist-packages (from matplotlib>=2.0.0->scikit-image!=0.14.3,<0.15,>=0.13.1->mlprimitives<0.3,>=0.2.2->orion-ml) (1.3.2)\n",
            "Requirement already satisfied: cycler>=0.10 in /usr/local/lib/python3.7/dist-packages (from matplotlib>=2.0.0->scikit-image!=0.14.3,<0.15,>=0.13.1->mlprimitives<0.3,>=0.2.2->orion-ml) (0.10.0)\n",
            "Requirement already satisfied: patsy>=0.4.0 in /usr/local/lib/python3.7/dist-packages (from statsmodels<1,>=0.9.0->mlprimitives<0.3,>=0.2.2->orion-ml) (0.5.2)\n",
            "Requirement already satisfied: tensorflow-estimator==1.15.1 in /usr/local/lib/python3.7/dist-packages (from tensorflow<2,>=1.11.0->mlprimitives<0.3,>=0.2.2->orion-ml) (1.15.1)\n",
            "Requirement already satisfied: termcolor>=1.1.0 in /usr/local/lib/python3.7/dist-packages (from tensorflow<2,>=1.11.0->mlprimitives<0.3,>=0.2.2->orion-ml) (1.1.0)\n",
            "Requirement already satisfied: protobuf>=3.6.1 in /usr/local/lib/python3.7/dist-packages (from tensorflow<2,>=1.11.0->mlprimitives<0.3,>=0.2.2->orion-ml) (3.17.3)\n",
            "Requirement already satisfied: tensorboard<1.16.0,>=1.15.0 in /usr/local/lib/python3.7/dist-packages (from tensorflow<2,>=1.11.0->mlprimitives<0.3,>=0.2.2->orion-ml) (1.15.0)\n",
            "Requirement already satisfied: grpcio>=1.8.6 in /usr/local/lib/python3.7/dist-packages (from tensorflow<2,>=1.11.0->mlprimitives<0.3,>=0.2.2->orion-ml) (1.41.0)\n",
            "Requirement already satisfied: wrapt>=1.11.1 in /usr/local/lib/python3.7/dist-packages (from tensorflow<2,>=1.11.0->mlprimitives<0.3,>=0.2.2->orion-ml) (1.12.1)\n",
            "Requirement already satisfied: opt-einsum>=2.3.2 in /usr/local/lib/python3.7/dist-packages (from tensorflow<2,>=1.11.0->mlprimitives<0.3,>=0.2.2->orion-ml) (3.3.0)\n",
            "Requirement already satisfied: gast==0.2.2 in /usr/local/lib/python3.7/dist-packages (from tensorflow<2,>=1.11.0->mlprimitives<0.3,>=0.2.2->orion-ml) (0.2.2)\n",
            "Requirement already satisfied: astor>=0.6.0 in /usr/local/lib/python3.7/dist-packages (from tensorflow<2,>=1.11.0->mlprimitives<0.3,>=0.2.2->orion-ml) (0.8.1)\n",
            "Requirement already satisfied: wheel>=0.26 in /usr/local/lib/python3.7/dist-packages (from tensorflow<2,>=1.11.0->mlprimitives<0.3,>=0.2.2->orion-ml) (0.37.0)\n",
            "Requirement already satisfied: google-pasta>=0.1.6 in /usr/local/lib/python3.7/dist-packages (from tensorflow<2,>=1.11.0->mlprimitives<0.3,>=0.2.2->orion-ml) (0.2.0)\n",
            "Requirement already satisfied: absl-py>=0.7.0 in /usr/local/lib/python3.7/dist-packages (from tensorflow<2,>=1.11.0->mlprimitives<0.3,>=0.2.2->orion-ml) (0.12.0)\n",
            "Requirement already satisfied: markdown>=2.6.8 in /usr/local/lib/python3.7/dist-packages (from tensorboard<1.16.0,>=1.15.0->tensorflow<2,>=1.11.0->mlprimitives<0.3,>=0.2.2->orion-ml) (3.3.4)\n",
            "Requirement already satisfied: werkzeug>=0.11.15 in /usr/local/lib/python3.7/dist-packages (from tensorboard<1.16.0,>=1.15.0->tensorflow<2,>=1.11.0->mlprimitives<0.3,>=0.2.2->orion-ml) (1.0.1)\n",
            "Requirement already satisfied: importlib-metadata in /usr/local/lib/python3.7/dist-packages (from markdown>=2.6.8->tensorboard<1.16.0,>=1.15.0->tensorflow<2,>=1.11.0->mlprimitives<0.3,>=0.2.2->orion-ml) (4.8.1)\n",
            "Requirement already satisfied: heapdict in /usr/local/lib/python3.7/dist-packages (from zict>=0.1.3->distributed>=1.24.2->featuretools<0.12,>=0.6.1->mlprimitives<0.3,>=0.2.2->orion-ml) (1.0.1)\n",
            "Requirement already satisfied: zipp>=0.5 in /usr/local/lib/python3.7/dist-packages (from importlib-metadata->markdown>=2.6.8->tensorboard<1.16.0,>=1.15.0->tensorflow<2,>=1.11.0->mlprimitives<0.3,>=0.2.2->orion-ml) (3.6.0)\n",
            "Requirement already satisfied: typing-extensions>=3.6.4 in /usr/local/lib/python3.7/dist-packages (from importlib-metadata->markdown>=2.6.8->tensorboard<1.16.0,>=1.15.0->tensorflow<2,>=1.11.0->mlprimitives<0.3,>=0.2.2->orion-ml) (3.7.4.3)\n",
            "Requirement already satisfied: urllib3!=1.25.0,!=1.25.1,<1.26,>=1.21.1 in /usr/local/lib/python3.7/dist-packages (1.25.11)\n"
          ]
        }
      ]
    },
    {
      "cell_type": "code",
      "metadata": {
        "colab": {
          "base_uri": "https://localhost:8080/"
        },
        "id": "VzVZRZs2DTvn",
        "outputId": "e9c2cc70-6a9e-4aae-85b8-9f8a59730b9f"
      },
      "source": [
        "! git clone https://github.com/signals-dev/Orion.git"
      ],
      "execution_count": 2,
      "outputs": [
        {
          "output_type": "stream",
          "name": "stdout",
          "text": [
            "Cloning into 'Orion'...\n",
            "remote: Enumerating objects: 6011, done.\u001b[K\n",
            "remote: Counting objects: 100% (2050/2050), done.\u001b[K\n",
            "remote: Compressing objects: 100% (759/759), done.\u001b[K\n",
            "remote: Total 6011 (delta 1656), reused 1601 (delta 1279), pack-reused 3961\u001b[K\n",
            "Receiving objects: 100% (6011/6011), 17.23 MiB | 13.46 MiB/s, done.\n",
            "Resolving deltas: 100% (4505/4505), done.\n"
          ]
        }
      ]
    },
    {
      "cell_type": "code",
      "metadata": {
        "colab": {
          "base_uri": "https://localhost:8080/"
        },
        "id": "MgR42H6wFJo3",
        "outputId": "d3980f81-3df9-458e-e3ff-6b4017f3aa1b"
      },
      "source": [
        "! mv Orion/notebooks/tulog/* "
      ],
      "execution_count": 3,
      "outputs": [
        {
          "output_type": "stream",
          "name": "stdout",
          "text": [
            "mv: target 'Orion/notebooks/tulog/utils.py' is not a directory\n"
          ]
        }
      ]
    },
    {
      "cell_type": "code",
      "metadata": {
        "id": "i4Bh1YLuFGF0"
      },
      "source": [
        "# general imports \n",
        "import matplotlib.pyplot as plt\n",
        "import numpy as np\n",
        "import pandas as pd\n",
        "#importing sklearn module\n",
        "from sklearn.impute import SimpleImputer\n",
        "from sklearn.preprocessing import MinMaxScaler"
      ],
      "execution_count": 4,
      "outputs": []
    },
    {
      "cell_type": "code",
      "metadata": {
        "id": "2T47Xi4FGy2M"
      },
      "source": [
        "from keras.utils import plot_model"
      ],
      "execution_count": 22,
      "outputs": []
    },
    {
      "cell_type": "code",
      "metadata": {
        "colab": {
          "base_uri": "https://localhost:8080/",
          "height": 305
        },
        "id": "LXXz2Ip_PP9n",
        "outputId": "dc247b3e-add0-41ae-c562-9df9a26d44c5"
      },
      "source": [
        "from utils import plot, plot_ts, plot_rws, plot_error, unroll_ts"
      ],
      "execution_count": 2,
      "outputs": [
        {
          "output_type": "error",
          "ename": "ModuleNotFoundError",
          "evalue": "ignored",
          "traceback": [
            "\u001b[0;31m---------------------------------------------------------------------------\u001b[0m",
            "\u001b[0;31mModuleNotFoundError\u001b[0m                       Traceback (most recent call last)",
            "\u001b[0;32m<ipython-input-2-9c1ea6d615d1>\u001b[0m in \u001b[0;36m<module>\u001b[0;34m()\u001b[0m\n\u001b[0;32m----> 1\u001b[0;31m \u001b[0;32mfrom\u001b[0m \u001b[0mutils\u001b[0m \u001b[0;32mimport\u001b[0m \u001b[0mplot\u001b[0m\u001b[0;34m,\u001b[0m \u001b[0mplot_ts\u001b[0m\u001b[0;34m,\u001b[0m \u001b[0mplot_rws\u001b[0m\u001b[0;34m,\u001b[0m \u001b[0mplot_error\u001b[0m\u001b[0;34m,\u001b[0m \u001b[0munroll_ts\u001b[0m\u001b[0;34m\u001b[0m\u001b[0;34m\u001b[0m\u001b[0m\n\u001b[0m",
            "\u001b[0;31mModuleNotFoundError\u001b[0m: No module named 'utils'",
            "",
            "\u001b[0;31m---------------------------------------------------------------------------\u001b[0;32m\nNOTE: If your import is failing due to a missing package, you can\nmanually install dependencies using either !pip or !apt.\n\nTo view examples of installing some common dependencies, click the\n\"Open Examples\" button below.\n\u001b[0;31m---------------------------------------------------------------------------\u001b[0m\n"
          ],
          "errorDetails": {
            "actions": [
              {
                "action": "open_url",
                "actionText": "Open Examples",
                "url": "/notebooks/snippets/importing_libraries.ipynb"
              }
            ]
          }
        }
      ]
    },
    {
      "cell_type": "code",
      "metadata": {
        "id": "khCWlUu-F4Hj"
      },
      "source": [
        "#utils.py contains all the plot function.\n",
        "from keras.utils import plot_model"
      ],
      "execution_count": 17,
      "outputs": []
    },
    {
      "cell_type": "code",
      "metadata": {
        "colab": {
          "base_uri": "https://localhost:8080/"
        },
        "id": "CEzetiBsF7mi",
        "outputId": "4bad0581-5230-47cd-f387-a9c51ba0f225"
      },
      "source": [
        "pip install utils"
      ],
      "execution_count": 6,
      "outputs": [
        {
          "output_type": "stream",
          "name": "stdout",
          "text": [
            "Collecting utils\n",
            "  Downloading utils-1.0.1-py2.py3-none-any.whl (21 kB)\n",
            "Installing collected packages: utils\n",
            "Successfully installed utils-1.0.1\n"
          ]
        }
      ]
    },
    {
      "cell_type": "code",
      "metadata": {
        "id": "0AeGDwCoGrYO"
      },
      "source": [
        "#importing data module to load the dataset\n",
        "from orion.data import load_signal, load_anomalies\n",
        "#Import nyc_taxi dataset\n",
        "signal = 'nyc_taxi'"
      ],
      "execution_count": 18,
      "outputs": []
    },
    {
      "cell_type": "code",
      "metadata": {
        "colab": {
          "base_uri": "https://localhost:8080/",
          "height": 206
        },
        "id": "765HRGxGL5J6",
        "outputId": "1609ac6f-bf25-42ea-ad28-960163b702e6"
      },
      "source": [
        "# load_signal function load the given dataset\n",
        "df = load_signal(signal)\n",
        "# Since this dataset is already labelled, we will use load_anomalies functions to get all the known anomalies.\n",
        "known_anomalies = load_anomalies(signal)\n",
        "df.head(5)"
      ],
      "execution_count": 19,
      "outputs": [
        {
          "output_type": "execute_result",
          "data": {
            "text/html": [
              "<div>\n",
              "<style scoped>\n",
              "    .dataframe tbody tr th:only-of-type {\n",
              "        vertical-align: middle;\n",
              "    }\n",
              "\n",
              "    .dataframe tbody tr th {\n",
              "        vertical-align: top;\n",
              "    }\n",
              "\n",
              "    .dataframe thead th {\n",
              "        text-align: right;\n",
              "    }\n",
              "</style>\n",
              "<table border=\"1\" class=\"dataframe\">\n",
              "  <thead>\n",
              "    <tr style=\"text-align: right;\">\n",
              "      <th></th>\n",
              "      <th>timestamp</th>\n",
              "      <th>value</th>\n",
              "    </tr>\n",
              "  </thead>\n",
              "  <tbody>\n",
              "    <tr>\n",
              "      <th>0</th>\n",
              "      <td>1404165600</td>\n",
              "      <td>10844.0</td>\n",
              "    </tr>\n",
              "    <tr>\n",
              "      <th>1</th>\n",
              "      <td>1404167400</td>\n",
              "      <td>8127.0</td>\n",
              "    </tr>\n",
              "    <tr>\n",
              "      <th>2</th>\n",
              "      <td>1404169200</td>\n",
              "      <td>6210.0</td>\n",
              "    </tr>\n",
              "    <tr>\n",
              "      <th>3</th>\n",
              "      <td>1404171000</td>\n",
              "      <td>4656.0</td>\n",
              "    </tr>\n",
              "    <tr>\n",
              "      <th>4</th>\n",
              "      <td>1404172800</td>\n",
              "      <td>3820.0</td>\n",
              "    </tr>\n",
              "  </tbody>\n",
              "</table>\n",
              "</div>"
            ],
            "text/plain": [
              "    timestamp    value\n",
              "0  1404165600  10844.0\n",
              "1  1404167400   8127.0\n",
              "2  1404169200   6210.0\n",
              "3  1404171000   4656.0\n",
              "4  1404172800   3820.0"
            ]
          },
          "metadata": {},
          "execution_count": 19
        }
      ]
    },
    {
      "cell_type": "code",
      "metadata": {
        "colab": {
          "base_uri": "https://localhost:8080/",
          "height": 1000
        },
        "id": "dOAg8bywhfyC",
        "outputId": "5e1081b7-c41d-412f-8b46-17636c870802"
      },
      "source": [
        "df"
      ],
      "execution_count": 29,
      "outputs": [
        {
          "output_type": "execute_result",
          "data": {
            "text/html": [
              "<div>\n",
              "<style scoped>\n",
              "    .dataframe tbody tr th:only-of-type {\n",
              "        vertical-align: middle;\n",
              "    }\n",
              "\n",
              "    .dataframe tbody tr th {\n",
              "        vertical-align: top;\n",
              "    }\n",
              "\n",
              "    .dataframe thead th {\n",
              "        text-align: right;\n",
              "    }\n",
              "</style>\n",
              "<table border=\"1\" class=\"dataframe\">\n",
              "  <thead>\n",
              "    <tr style=\"text-align: right;\">\n",
              "      <th></th>\n",
              "      <th>timestamp</th>\n",
              "      <th>value</th>\n",
              "    </tr>\n",
              "  </thead>\n",
              "  <tbody>\n",
              "    <tr>\n",
              "      <th>0</th>\n",
              "      <td>1404165600</td>\n",
              "      <td>10844.0</td>\n",
              "    </tr>\n",
              "    <tr>\n",
              "      <th>1</th>\n",
              "      <td>1404167400</td>\n",
              "      <td>8127.0</td>\n",
              "    </tr>\n",
              "    <tr>\n",
              "      <th>2</th>\n",
              "      <td>1404169200</td>\n",
              "      <td>6210.0</td>\n",
              "    </tr>\n",
              "    <tr>\n",
              "      <th>3</th>\n",
              "      <td>1404171000</td>\n",
              "      <td>4656.0</td>\n",
              "    </tr>\n",
              "    <tr>\n",
              "      <th>4</th>\n",
              "      <td>1404172800</td>\n",
              "      <td>3820.0</td>\n",
              "    </tr>\n",
              "    <tr>\n",
              "      <th>5</th>\n",
              "      <td>1404174600</td>\n",
              "      <td>2873.0</td>\n",
              "    </tr>\n",
              "    <tr>\n",
              "      <th>6</th>\n",
              "      <td>1404176400</td>\n",
              "      <td>2369.0</td>\n",
              "    </tr>\n",
              "    <tr>\n",
              "      <th>7</th>\n",
              "      <td>1404178200</td>\n",
              "      <td>2064.0</td>\n",
              "    </tr>\n",
              "    <tr>\n",
              "      <th>8</th>\n",
              "      <td>1404180000</td>\n",
              "      <td>2221.0</td>\n",
              "    </tr>\n",
              "    <tr>\n",
              "      <th>9</th>\n",
              "      <td>1404181800</td>\n",
              "      <td>2158.0</td>\n",
              "    </tr>\n",
              "    <tr>\n",
              "      <th>10</th>\n",
              "      <td>1404183600</td>\n",
              "      <td>2515.0</td>\n",
              "    </tr>\n",
              "    <tr>\n",
              "      <th>11</th>\n",
              "      <td>1404185400</td>\n",
              "      <td>4364.0</td>\n",
              "    </tr>\n",
              "    <tr>\n",
              "      <th>12</th>\n",
              "      <td>1404187200</td>\n",
              "      <td>6526.0</td>\n",
              "    </tr>\n",
              "    <tr>\n",
              "      <th>13</th>\n",
              "      <td>1404189000</td>\n",
              "      <td>11039.0</td>\n",
              "    </tr>\n",
              "    <tr>\n",
              "      <th>14</th>\n",
              "      <td>1404190800</td>\n",
              "      <td>13857.0</td>\n",
              "    </tr>\n",
              "    <tr>\n",
              "      <th>15</th>\n",
              "      <td>1404192600</td>\n",
              "      <td>15865.0</td>\n",
              "    </tr>\n",
              "    <tr>\n",
              "      <th>16</th>\n",
              "      <td>1404194400</td>\n",
              "      <td>17920.0</td>\n",
              "    </tr>\n",
              "    <tr>\n",
              "      <th>17</th>\n",
              "      <td>1404196200</td>\n",
              "      <td>20346.0</td>\n",
              "    </tr>\n",
              "    <tr>\n",
              "      <th>18</th>\n",
              "      <td>1404198000</td>\n",
              "      <td>19539.0</td>\n",
              "    </tr>\n",
              "    <tr>\n",
              "      <th>19</th>\n",
              "      <td>1404199800</td>\n",
              "      <td>20107.0</td>\n",
              "    </tr>\n",
              "    <tr>\n",
              "      <th>20</th>\n",
              "      <td>1404201600</td>\n",
              "      <td>18984.0</td>\n",
              "    </tr>\n",
              "    <tr>\n",
              "      <th>21</th>\n",
              "      <td>1404203400</td>\n",
              "      <td>17720.0</td>\n",
              "    </tr>\n",
              "    <tr>\n",
              "      <th>22</th>\n",
              "      <td>1404205200</td>\n",
              "      <td>17249.0</td>\n",
              "    </tr>\n",
              "    <tr>\n",
              "      <th>23</th>\n",
              "      <td>1404207000</td>\n",
              "      <td>18463.0</td>\n",
              "    </tr>\n",
              "    <tr>\n",
              "      <th>24</th>\n",
              "      <td>1404208800</td>\n",
              "      <td>18908.0</td>\n",
              "    </tr>\n",
              "    <tr>\n",
              "      <th>25</th>\n",
              "      <td>1404210600</td>\n",
              "      <td>18886.0</td>\n",
              "    </tr>\n",
              "    <tr>\n",
              "      <th>26</th>\n",
              "      <td>1404212400</td>\n",
              "      <td>18178.0</td>\n",
              "    </tr>\n",
              "    <tr>\n",
              "      <th>27</th>\n",
              "      <td>1404214200</td>\n",
              "      <td>19459.0</td>\n",
              "    </tr>\n",
              "    <tr>\n",
              "      <th>28</th>\n",
              "      <td>1404216000</td>\n",
              "      <td>19546.0</td>\n",
              "    </tr>\n",
              "    <tr>\n",
              "      <th>29</th>\n",
              "      <td>1404217800</td>\n",
              "      <td>20591.0</td>\n",
              "    </tr>\n",
              "    <tr>\n",
              "      <th>...</th>\n",
              "      <td>...</td>\n",
              "      <td>...</td>\n",
              "    </tr>\n",
              "    <tr>\n",
              "      <th>10290</th>\n",
              "      <td>1422691200</td>\n",
              "      <td>13522.0</td>\n",
              "    </tr>\n",
              "    <tr>\n",
              "      <th>10291</th>\n",
              "      <td>1422693000</td>\n",
              "      <td>18164.0</td>\n",
              "    </tr>\n",
              "    <tr>\n",
              "      <th>10292</th>\n",
              "      <td>1422694800</td>\n",
              "      <td>17645.0</td>\n",
              "    </tr>\n",
              "    <tr>\n",
              "      <th>10293</th>\n",
              "      <td>1422696600</td>\n",
              "      <td>20056.0</td>\n",
              "    </tr>\n",
              "    <tr>\n",
              "      <th>10294</th>\n",
              "      <td>1422698400</td>\n",
              "      <td>20270.0</td>\n",
              "    </tr>\n",
              "    <tr>\n",
              "      <th>10295</th>\n",
              "      <td>1422700200</td>\n",
              "      <td>22865.0</td>\n",
              "    </tr>\n",
              "    <tr>\n",
              "      <th>10296</th>\n",
              "      <td>1422702000</td>\n",
              "      <td>22951.0</td>\n",
              "    </tr>\n",
              "    <tr>\n",
              "      <th>10297</th>\n",
              "      <td>1422703800</td>\n",
              "      <td>23387.0</td>\n",
              "    </tr>\n",
              "    <tr>\n",
              "      <th>10298</th>\n",
              "      <td>1422705600</td>\n",
              "      <td>23069.0</td>\n",
              "    </tr>\n",
              "    <tr>\n",
              "      <th>10299</th>\n",
              "      <td>1422707400</td>\n",
              "      <td>23298.0</td>\n",
              "    </tr>\n",
              "    <tr>\n",
              "      <th>10300</th>\n",
              "      <td>1422709200</td>\n",
              "      <td>21817.0</td>\n",
              "    </tr>\n",
              "    <tr>\n",
              "      <th>10301</th>\n",
              "      <td>1422711000</td>\n",
              "      <td>21565.0</td>\n",
              "    </tr>\n",
              "    <tr>\n",
              "      <th>10302</th>\n",
              "      <td>1422712800</td>\n",
              "      <td>21729.0</td>\n",
              "    </tr>\n",
              "    <tr>\n",
              "      <th>10303</th>\n",
              "      <td>1422714600</td>\n",
              "      <td>22838.0</td>\n",
              "    </tr>\n",
              "    <tr>\n",
              "      <th>10304</th>\n",
              "      <td>1422716400</td>\n",
              "      <td>21068.0</td>\n",
              "    </tr>\n",
              "    <tr>\n",
              "      <th>10305</th>\n",
              "      <td>1422718200</td>\n",
              "      <td>19920.0</td>\n",
              "    </tr>\n",
              "    <tr>\n",
              "      <th>10306</th>\n",
              "      <td>1422720000</td>\n",
              "      <td>20715.0</td>\n",
              "    </tr>\n",
              "    <tr>\n",
              "      <th>10307</th>\n",
              "      <td>1422721800</td>\n",
              "      <td>23595.0</td>\n",
              "    </tr>\n",
              "    <tr>\n",
              "      <th>10308</th>\n",
              "      <td>1422723600</td>\n",
              "      <td>26044.0</td>\n",
              "    </tr>\n",
              "    <tr>\n",
              "      <th>10309</th>\n",
              "      <td>1422725400</td>\n",
              "      <td>27286.0</td>\n",
              "    </tr>\n",
              "    <tr>\n",
              "      <th>10310</th>\n",
              "      <td>1422727200</td>\n",
              "      <td>28804.0</td>\n",
              "    </tr>\n",
              "    <tr>\n",
              "      <th>10311</th>\n",
              "      <td>1422729000</td>\n",
              "      <td>27773.0</td>\n",
              "    </tr>\n",
              "    <tr>\n",
              "      <th>10312</th>\n",
              "      <td>1422730800</td>\n",
              "      <td>24985.0</td>\n",
              "    </tr>\n",
              "    <tr>\n",
              "      <th>10313</th>\n",
              "      <td>1422732600</td>\n",
              "      <td>23291.0</td>\n",
              "    </tr>\n",
              "    <tr>\n",
              "      <th>10314</th>\n",
              "      <td>1422734400</td>\n",
              "      <td>23719.0</td>\n",
              "    </tr>\n",
              "    <tr>\n",
              "      <th>10315</th>\n",
              "      <td>1422736200</td>\n",
              "      <td>24670.0</td>\n",
              "    </tr>\n",
              "    <tr>\n",
              "      <th>10316</th>\n",
              "      <td>1422738000</td>\n",
              "      <td>25721.0</td>\n",
              "    </tr>\n",
              "    <tr>\n",
              "      <th>10317</th>\n",
              "      <td>1422739800</td>\n",
              "      <td>27309.0</td>\n",
              "    </tr>\n",
              "    <tr>\n",
              "      <th>10318</th>\n",
              "      <td>1422741600</td>\n",
              "      <td>26591.0</td>\n",
              "    </tr>\n",
              "    <tr>\n",
              "      <th>10319</th>\n",
              "      <td>1422743400</td>\n",
              "      <td>26288.0</td>\n",
              "    </tr>\n",
              "  </tbody>\n",
              "</table>\n",
              "<p>10320 rows × 2 columns</p>\n",
              "</div>"
            ],
            "text/plain": [
              "        timestamp    value\n",
              "0      1404165600  10844.0\n",
              "1      1404167400   8127.0\n",
              "2      1404169200   6210.0\n",
              "3      1404171000   4656.0\n",
              "4      1404172800   3820.0\n",
              "5      1404174600   2873.0\n",
              "6      1404176400   2369.0\n",
              "7      1404178200   2064.0\n",
              "8      1404180000   2221.0\n",
              "9      1404181800   2158.0\n",
              "10     1404183600   2515.0\n",
              "11     1404185400   4364.0\n",
              "12     1404187200   6526.0\n",
              "13     1404189000  11039.0\n",
              "14     1404190800  13857.0\n",
              "15     1404192600  15865.0\n",
              "16     1404194400  17920.0\n",
              "17     1404196200  20346.0\n",
              "18     1404198000  19539.0\n",
              "19     1404199800  20107.0\n",
              "20     1404201600  18984.0\n",
              "21     1404203400  17720.0\n",
              "22     1404205200  17249.0\n",
              "23     1404207000  18463.0\n",
              "24     1404208800  18908.0\n",
              "25     1404210600  18886.0\n",
              "26     1404212400  18178.0\n",
              "27     1404214200  19459.0\n",
              "28     1404216000  19546.0\n",
              "29     1404217800  20591.0\n",
              "...           ...      ...\n",
              "10290  1422691200  13522.0\n",
              "10291  1422693000  18164.0\n",
              "10292  1422694800  17645.0\n",
              "10293  1422696600  20056.0\n",
              "10294  1422698400  20270.0\n",
              "10295  1422700200  22865.0\n",
              "10296  1422702000  22951.0\n",
              "10297  1422703800  23387.0\n",
              "10298  1422705600  23069.0\n",
              "10299  1422707400  23298.0\n",
              "10300  1422709200  21817.0\n",
              "10301  1422711000  21565.0\n",
              "10302  1422712800  21729.0\n",
              "10303  1422714600  22838.0\n",
              "10304  1422716400  21068.0\n",
              "10305  1422718200  19920.0\n",
              "10306  1422720000  20715.0\n",
              "10307  1422721800  23595.0\n",
              "10308  1422723600  26044.0\n",
              "10309  1422725400  27286.0\n",
              "10310  1422727200  28804.0\n",
              "10311  1422729000  27773.0\n",
              "10312  1422730800  24985.0\n",
              "10313  1422732600  23291.0\n",
              "10314  1422734400  23719.0\n",
              "10315  1422736200  24670.0\n",
              "10316  1422738000  25721.0\n",
              "10317  1422739800  27309.0\n",
              "10318  1422741600  26591.0\n",
              "10319  1422743400  26288.0\n",
              "\n",
              "[10320 rows x 2 columns]"
            ]
          },
          "metadata": {},
          "execution_count": 29
        }
      ]
    },
    {
      "cell_type": "code",
      "metadata": {
        "id": "mIL8NLsMM-3x"
      },
      "source": [
        "##Plotting the dataset with the known anomalies. The blue color represents all the data points and the light pink colored patch represents the known anomaly.\n"
      ],
      "execution_count": null,
      "outputs": []
    },
    {
      "cell_type": "code",
      "metadata": {
        "colab": {
          "base_uri": "https://localhost:8080/",
          "height": 183
        },
        "id": "WVPtZ_dQOWtQ",
        "outputId": "6afa5200-ed35-46e4-e354-c7a12473bd38"
      },
      "source": [
        "#the pink-colored patch represent known anomaly\n",
        "plot(df, known_anomalies)"
      ],
      "execution_count": 1,
      "outputs": [
        {
          "output_type": "error",
          "ename": "NameError",
          "evalue": "ignored",
          "traceback": [
            "\u001b[0;31m---------------------------------------------------------------------------\u001b[0m",
            "\u001b[0;31mNameError\u001b[0m                                 Traceback (most recent call last)",
            "\u001b[0;32m<ipython-input-1-90810185a30a>\u001b[0m in \u001b[0;36m<module>\u001b[0;34m()\u001b[0m\n\u001b[1;32m      1\u001b[0m \u001b[0;31m#the pink-colored patch represent known anomaly\u001b[0m\u001b[0;34m\u001b[0m\u001b[0;34m\u001b[0m\u001b[0;34m\u001b[0m\u001b[0m\n\u001b[0;32m----> 2\u001b[0;31m \u001b[0mplot\u001b[0m\u001b[0;34m(\u001b[0m\u001b[0mdf\u001b[0m\u001b[0;34m,\u001b[0m \u001b[0mknown_anomalies\u001b[0m\u001b[0;34m)\u001b[0m\u001b[0;34m\u001b[0m\u001b[0;34m\u001b[0m\u001b[0m\n\u001b[0m",
            "\u001b[0;31mNameError\u001b[0m: name 'plot' is not defined"
          ]
        }
      ]
    },
    {
      "cell_type": "code",
      "metadata": {
        "colab": {
          "base_uri": "https://localhost:8080/",
          "height": 563
        },
        "id": "Nb20ov_GhAOl",
        "outputId": "658e52ac-b6ec-457f-8a00-e71e5ed7725c"
      },
      "source": [
        "plot(df, known_anomalies)"
      ],
      "execution_count": 28,
      "outputs": [
        {
          "output_type": "error",
          "ename": "ValueError",
          "evalue": "ignored",
          "traceback": [
            "\u001b[0;31m---------------------------------------------------------------------------\u001b[0m",
            "\u001b[0;31mValueError\u001b[0m                                Traceback (most recent call last)",
            "\u001b[0;32m<ipython-input-28-b02f754f2240>\u001b[0m in \u001b[0;36m<module>\u001b[0;34m()\u001b[0m\n\u001b[0;32m----> 1\u001b[0;31m \u001b[0mplt\u001b[0m\u001b[0;34m.\u001b[0m\u001b[0mplot\u001b[0m\u001b[0;34m(\u001b[0m\u001b[0mdf\u001b[0m\u001b[0;34m,\u001b[0m \u001b[0mknown_anomalies\u001b[0m\u001b[0;34m)\u001b[0m\u001b[0;34m\u001b[0m\u001b[0;34m\u001b[0m\u001b[0m\n\u001b[0m",
            "\u001b[0;32m/usr/local/lib/python3.7/dist-packages/matplotlib/pyplot.py\u001b[0m in \u001b[0;36mplot\u001b[0;34m(scalex, scaley, data, *args, **kwargs)\u001b[0m\n\u001b[1;32m   2761\u001b[0m     return gca().plot(\n\u001b[1;32m   2762\u001b[0m         *args, scalex=scalex, scaley=scaley, **({\"data\": data} if data\n\u001b[0;32m-> 2763\u001b[0;31m         is not None else {}), **kwargs)\n\u001b[0m\u001b[1;32m   2764\u001b[0m \u001b[0;34m\u001b[0m\u001b[0m\n\u001b[1;32m   2765\u001b[0m \u001b[0;34m\u001b[0m\u001b[0m\n",
            "\u001b[0;32m/usr/local/lib/python3.7/dist-packages/matplotlib/axes/_axes.py\u001b[0m in \u001b[0;36mplot\u001b[0;34m(self, scalex, scaley, data, *args, **kwargs)\u001b[0m\n\u001b[1;32m   1645\u001b[0m         \"\"\"\n\u001b[1;32m   1646\u001b[0m         \u001b[0mkwargs\u001b[0m \u001b[0;34m=\u001b[0m \u001b[0mcbook\u001b[0m\u001b[0;34m.\u001b[0m\u001b[0mnormalize_kwargs\u001b[0m\u001b[0;34m(\u001b[0m\u001b[0mkwargs\u001b[0m\u001b[0;34m,\u001b[0m \u001b[0mmlines\u001b[0m\u001b[0;34m.\u001b[0m\u001b[0mLine2D\u001b[0m\u001b[0;34m)\u001b[0m\u001b[0;34m\u001b[0m\u001b[0;34m\u001b[0m\u001b[0m\n\u001b[0;32m-> 1647\u001b[0;31m         \u001b[0mlines\u001b[0m \u001b[0;34m=\u001b[0m \u001b[0;34m[\u001b[0m\u001b[0;34m*\u001b[0m\u001b[0mself\u001b[0m\u001b[0;34m.\u001b[0m\u001b[0m_get_lines\u001b[0m\u001b[0;34m(\u001b[0m\u001b[0;34m*\u001b[0m\u001b[0margs\u001b[0m\u001b[0;34m,\u001b[0m \u001b[0mdata\u001b[0m\u001b[0;34m=\u001b[0m\u001b[0mdata\u001b[0m\u001b[0;34m,\u001b[0m \u001b[0;34m**\u001b[0m\u001b[0mkwargs\u001b[0m\u001b[0;34m)\u001b[0m\u001b[0;34m]\u001b[0m\u001b[0;34m\u001b[0m\u001b[0;34m\u001b[0m\u001b[0m\n\u001b[0m\u001b[1;32m   1648\u001b[0m         \u001b[0;32mfor\u001b[0m \u001b[0mline\u001b[0m \u001b[0;32min\u001b[0m \u001b[0mlines\u001b[0m\u001b[0;34m:\u001b[0m\u001b[0;34m\u001b[0m\u001b[0;34m\u001b[0m\u001b[0m\n\u001b[1;32m   1649\u001b[0m             \u001b[0mself\u001b[0m\u001b[0;34m.\u001b[0m\u001b[0madd_line\u001b[0m\u001b[0;34m(\u001b[0m\u001b[0mline\u001b[0m\u001b[0;34m)\u001b[0m\u001b[0;34m\u001b[0m\u001b[0;34m\u001b[0m\u001b[0m\n",
            "\u001b[0;32m/usr/local/lib/python3.7/dist-packages/matplotlib/axes/_base.py\u001b[0m in \u001b[0;36m__call__\u001b[0;34m(self, *args, **kwargs)\u001b[0m\n\u001b[1;32m    214\u001b[0m                 \u001b[0mthis\u001b[0m \u001b[0;34m+=\u001b[0m \u001b[0margs\u001b[0m\u001b[0;34m[\u001b[0m\u001b[0;36m0\u001b[0m\u001b[0;34m]\u001b[0m\u001b[0;34m,\u001b[0m\u001b[0;34m\u001b[0m\u001b[0;34m\u001b[0m\u001b[0m\n\u001b[1;32m    215\u001b[0m                 \u001b[0margs\u001b[0m \u001b[0;34m=\u001b[0m \u001b[0margs\u001b[0m\u001b[0;34m[\u001b[0m\u001b[0;36m1\u001b[0m\u001b[0;34m:\u001b[0m\u001b[0;34m]\u001b[0m\u001b[0;34m\u001b[0m\u001b[0;34m\u001b[0m\u001b[0m\n\u001b[0;32m--> 216\u001b[0;31m             \u001b[0;32myield\u001b[0m \u001b[0;32mfrom\u001b[0m \u001b[0mself\u001b[0m\u001b[0;34m.\u001b[0m\u001b[0m_plot_args\u001b[0m\u001b[0;34m(\u001b[0m\u001b[0mthis\u001b[0m\u001b[0;34m,\u001b[0m \u001b[0mkwargs\u001b[0m\u001b[0;34m)\u001b[0m\u001b[0;34m\u001b[0m\u001b[0;34m\u001b[0m\u001b[0m\n\u001b[0m\u001b[1;32m    217\u001b[0m \u001b[0;34m\u001b[0m\u001b[0m\n\u001b[1;32m    218\u001b[0m     \u001b[0;32mdef\u001b[0m \u001b[0mget_next_color\u001b[0m\u001b[0;34m(\u001b[0m\u001b[0mself\u001b[0m\u001b[0;34m)\u001b[0m\u001b[0;34m:\u001b[0m\u001b[0;34m\u001b[0m\u001b[0;34m\u001b[0m\u001b[0m\n",
            "\u001b[0;32m/usr/local/lib/python3.7/dist-packages/matplotlib/axes/_base.py\u001b[0m in \u001b[0;36m_plot_args\u001b[0;34m(self, tup, kwargs)\u001b[0m\n\u001b[1;32m    340\u001b[0m \u001b[0;34m\u001b[0m\u001b[0m\n\u001b[1;32m    341\u001b[0m         \u001b[0;32mif\u001b[0m \u001b[0mx\u001b[0m\u001b[0;34m.\u001b[0m\u001b[0mshape\u001b[0m\u001b[0;34m[\u001b[0m\u001b[0;36m0\u001b[0m\u001b[0;34m]\u001b[0m \u001b[0;34m!=\u001b[0m \u001b[0my\u001b[0m\u001b[0;34m.\u001b[0m\u001b[0mshape\u001b[0m\u001b[0;34m[\u001b[0m\u001b[0;36m0\u001b[0m\u001b[0;34m]\u001b[0m\u001b[0;34m:\u001b[0m\u001b[0;34m\u001b[0m\u001b[0;34m\u001b[0m\u001b[0m\n\u001b[0;32m--> 342\u001b[0;31m             raise ValueError(f\"x and y must have same first dimension, but \"\n\u001b[0m\u001b[1;32m    343\u001b[0m                              f\"have shapes {x.shape} and {y.shape}\")\n\u001b[1;32m    344\u001b[0m         \u001b[0;32mif\u001b[0m \u001b[0mx\u001b[0m\u001b[0;34m.\u001b[0m\u001b[0mndim\u001b[0m \u001b[0;34m>\u001b[0m \u001b[0;36m2\u001b[0m \u001b[0;32mor\u001b[0m \u001b[0my\u001b[0m\u001b[0;34m.\u001b[0m\u001b[0mndim\u001b[0m \u001b[0;34m>\u001b[0m \u001b[0;36m2\u001b[0m\u001b[0;34m:\u001b[0m\u001b[0;34m\u001b[0m\u001b[0;34m\u001b[0m\u001b[0m\n",
            "\u001b[0;31mValueError\u001b[0m: x and y must have same first dimension, but have shapes (10320, 2) and (5, 2)"
          ]
        },
        {
          "output_type": "display_data",
          "data": {
            "image/png": "[encoded data removed]",
            "text/plain": [
              "<Figure size 432x288 with 1 Axes>"
            ]
          },
          "metadata": {
            "needs_background": "light"
          }
        }
      ]
    },
    {
      "cell_type": "code",
      "metadata": {
        "id": "wyIkzc7MOhAN"
      },
      "source": [
        "## Orion API ##\n",
        "## We will use Orion to perform these sequence of actions. We will be emphasizing the usage of the TadGAN model which is a time series anomaly detection using GANs model. The model is specified in a json format accompanied with this notebook named tadgan.json. There are more pipelines defined within the repository including: ARIMA, LSTM, etc.\n",
        "\n",
        "## The Orion API is a simple interface that allows you to interact with anomaly detection pipeline. \n",
        "## To train the model on the data, we simply use the fit method; to do anomaly detection, we use the detect method. In our case, we want to fit the data and then perform detection; therefore we use the fit_detect method. This might take some time to run. Once it’s done, we can visualize the results."
      ],
      "execution_count": 3,
      "outputs": []
    },
    {
      "cell_type": "code",
      "metadata": {
        "colab": {
          "base_uri": "https://localhost:8080/"
        },
        "id": "cdPNY5lhW9eF",
        "outputId": "5db58898-36eb-4583-b6fe-77a50bb15e78"
      },
      "source": [
        "pip install orion"
      ],
      "execution_count": 5,
      "outputs": [
        {
          "output_type": "stream",
          "name": "stdout",
          "text": [
            "Collecting orion\n",
            "  Downloading orion-0.1.17-py2.py3-none-any.whl (277 kB)\n",
            "\u001b[?25l\r\u001b[K     |█▏                              | 10 kB 16.7 MB/s eta 0:00:01\r\u001b[K     |██▍                             | 20 kB 11.7 MB/s eta 0:00:01\r\u001b[K     |███▌                            | 30 kB 9.2 MB/s eta 0:00:01\r\u001b[K     |████▊                           | 40 kB 8.3 MB/s eta 0:00:01\r\u001b[K     |██████                          | 51 kB 4.2 MB/s eta 0:00:01\r\u001b[K     |███████                         | 61 kB 4.5 MB/s eta 0:00:01\r\u001b[K     |████████▎                       | 71 kB 4.7 MB/s eta 0:00:01\r\u001b[K     |█████████▌                      | 81 kB 5.3 MB/s eta 0:00:01\r\u001b[K     |██████████▋                     | 92 kB 5.3 MB/s eta 0:00:01\r\u001b[K     |███████████▉                    | 102 kB 4.4 MB/s eta 0:00:01\r\u001b[K     |█████████████                   | 112 kB 4.4 MB/s eta 0:00:01\r\u001b[K     |██████████████▏                 | 122 kB 4.4 MB/s eta 0:00:01\r\u001b[K     |███████████████▍                | 133 kB 4.4 MB/s eta 0:00:01\r\u001b[K     |████████████████▌               | 143 kB 4.4 MB/s eta 0:00:01\r\u001b[K     |█████████████████▊              | 153 kB 4.4 MB/s eta 0:00:01\r\u001b[K     |███████████████████             | 163 kB 4.4 MB/s eta 0:00:01\r\u001b[K     |████████████████████            | 174 kB 4.4 MB/s eta 0:00:01\r\u001b[K     |█████████████████████▎          | 184 kB 4.4 MB/s eta 0:00:01\r\u001b[K     |██████████████████████▌         | 194 kB 4.4 MB/s eta 0:00:01\r\u001b[K     |███████████████████████▋        | 204 kB 4.4 MB/s eta 0:00:01\r\u001b[K     |████████████████████████▉       | 215 kB 4.4 MB/s eta 0:00:01\r\u001b[K     |██████████████████████████      | 225 kB 4.4 MB/s eta 0:00:01\r\u001b[K     |███████████████████████████▏    | 235 kB 4.4 MB/s eta 0:00:01\r\u001b[K     |████████████████████████████▍   | 245 kB 4.4 MB/s eta 0:00:01\r\u001b[K     |█████████████████████████████▌  | 256 kB 4.4 MB/s eta 0:00:01\r\u001b[K     |██████████████████████████████▊ | 266 kB 4.4 MB/s eta 0:00:01\r\u001b[K     |████████████████████████████████| 276 kB 4.4 MB/s eta 0:00:01\r\u001b[K     |████████████████████████████████| 277 kB 4.4 MB/s \n",
            "\u001b[?25hRequirement already satisfied: scipy in /usr/local/lib/python3.7/dist-packages (from orion) (1.4.1)\n",
            "Requirement already satisfied: psutil in /usr/local/lib/python3.7/dist-packages (from orion) (5.4.8)\n",
            "Requirement already satisfied: PyYAML in /usr/local/lib/python3.7/dist-packages (from orion) (3.13)\n",
            "Requirement already satisfied: joblib in /usr/local/lib/python3.7/dist-packages (from orion) (1.0.1)\n",
            "Requirement already satisfied: filelock in /usr/local/lib/python3.7/dist-packages (from orion) (3.3.0)\n",
            "Requirement already satisfied: pymongo>=3 in /usr/local/lib/python3.7/dist-packages (from orion) (3.12.0)\n",
            "Requirement already satisfied: plotly in /usr/local/lib/python3.7/dist-packages (from orion) (4.4.1)\n",
            "Requirement already satisfied: AppDirs in /usr/local/lib/python3.7/dist-packages (from orion) (1.4.4)\n",
            "Requirement already satisfied: pandas in /usr/local/lib/python3.7/dist-packages (from orion) (1.1.5)\n",
            "Collecting kaleido\n",
            "  Downloading kaleido-0.2.1-py2.py3-none-manylinux1_x86_64.whl (79.9 MB)\n",
            "\u001b[K     |████████████████████████████████| 79.9 MB 46 kB/s \n",
            "\u001b[?25hCollecting falcon\n",
            "  Downloading falcon-3.0.1-cp37-cp37m-manylinux_2_17_x86_64.manylinux2014_x86_64.whl (8.1 MB)\n",
            "\u001b[K     |████████████████████████████████| 8.1 MB 11.3 MB/s \n",
            "\u001b[?25hRequirement already satisfied: tabulate in /usr/local/lib/python3.7/dist-packages (from orion) (0.8.9)\n",
            "Collecting gitpython\n",
            "  Downloading GitPython-3.1.24-py3-none-any.whl (180 kB)\n",
            "\u001b[K     |████████████████████████████████| 180 kB 57.8 MB/s \n",
            "\u001b[?25hRequirement already satisfied: scikit-learn in /usr/local/lib/python3.7/dist-packages (from orion) (0.22.2.post1)\n",
            "Requirement already satisfied: pytest>=3.0.0 in /usr/local/lib/python3.7/dist-packages (from orion) (3.6.4)\n",
            "Requirement already satisfied: requests in /usr/local/lib/python3.7/dist-packages (from orion) (2.23.0)\n",
            "Requirement already satisfied: numpy in /usr/local/lib/python3.7/dist-packages (from orion) (1.19.5)\n",
            "Collecting gunicorn\n",
            "  Downloading gunicorn-20.1.0-py3-none-any.whl (79 kB)\n",
            "\u001b[K     |████████████████████████████████| 79 kB 8.0 MB/s \n",
            "\u001b[?25hRequirement already satisfied: six>=1.10.0 in /usr/local/lib/python3.7/dist-packages (from pytest>=3.0.0->orion) (1.15.0)\n",
            "Requirement already satisfied: setuptools in /usr/local/lib/python3.7/dist-packages (from pytest>=3.0.0->orion) (57.4.0)\n",
            "Requirement already satisfied: more-itertools>=4.0.0 in /usr/local/lib/python3.7/dist-packages (from pytest>=3.0.0->orion) (8.10.0)\n",
            "Requirement already satisfied: py>=1.5.0 in /usr/local/lib/python3.7/dist-packages (from pytest>=3.0.0->orion) (1.10.0)\n",
            "Requirement already satisfied: attrs>=17.4.0 in /usr/local/lib/python3.7/dist-packages (from pytest>=3.0.0->orion) (21.2.0)\n",
            "Requirement already satisfied: atomicwrites>=1.0 in /usr/local/lib/python3.7/dist-packages (from pytest>=3.0.0->orion) (1.4.0)\n",
            "Requirement already satisfied: pluggy<0.8,>=0.5 in /usr/local/lib/python3.7/dist-packages (from pytest>=3.0.0->orion) (0.7.1)\n",
            "Collecting gitdb<5,>=4.0.1\n",
            "  Downloading gitdb-4.0.9-py3-none-any.whl (63 kB)\n",
            "\u001b[K     |████████████████████████████████| 63 kB 1.5 MB/s \n",
            "\u001b[?25hRequirement already satisfied: typing-extensions>=3.7.4.3 in /usr/local/lib/python3.7/dist-packages (from gitpython->orion) (3.7.4.3)\n",
            "Collecting smmap<6,>=3.0.1\n",
            "  Downloading smmap-5.0.0-py3-none-any.whl (24 kB)\n",
            "Requirement already satisfied: python-dateutil>=2.7.3 in /usr/local/lib/python3.7/dist-packages (from pandas->orion) (2.8.2)\n",
            "Requirement already satisfied: pytz>=2017.2 in /usr/local/lib/python3.7/dist-packages (from pandas->orion) (2018.9)\n",
            "Requirement already satisfied: retrying>=1.3.3 in /usr/local/lib/python3.7/dist-packages (from plotly->orion) (1.3.3)\n",
            "Requirement already satisfied: idna<3,>=2.5 in /usr/local/lib/python3.7/dist-packages (from requests->orion) (2.10)\n",
            "Requirement already satisfied: chardet<4,>=3.0.2 in /usr/local/lib/python3.7/dist-packages (from requests->orion) (3.0.4)\n",
            "Requirement already satisfied: urllib3!=1.25.0,!=1.25.1,<1.26,>=1.21.1 in /usr/local/lib/python3.7/dist-packages (from requests->orion) (1.24.3)\n",
            "Requirement already satisfied: certifi>=2017.4.17 in /usr/local/lib/python3.7/dist-packages (from requests->orion) (2021.5.30)\n",
            "Installing collected packages: smmap, gitdb, kaleido, gunicorn, gitpython, falcon, orion\n",
            "Successfully installed falcon-3.0.1 gitdb-4.0.9 gitpython-3.1.24 gunicorn-20.1.0 kaleido-0.2.1 orion-0.1.17 smmap-5.0.0\n"
          ]
        }
      ]
    },
    {
      "cell_type": "code",
      "metadata": {
        "colab": {
          "base_uri": "https://localhost:8080/",
          "height": 131
        },
        "id": "_1rYYqpxW6yH",
        "outputId": "6481aecf-154a-4b26-c5d5-09f2c3ac0599"
      },
      "source": [
        "##Data Preparation\n",
        "## data frequency\n",
        "Adjust signal spacing to be of equal width across all times. There are two important parameters in this process:\n",
        "\n",
        "interval: an interger that refers to the time span to compute aggregation of.\n",
        "method: what aggregation method should be used to compute the value, by default this set to the mean.\n",
        "In addition to, passing the array of values and which column holds the values we wish to alter the frequency of."
      ],
      "execution_count": 8,
      "outputs": [
        {
          "output_type": "error",
          "ename": "SyntaxError",
          "evalue": "ignored",
          "traceback": [
            "\u001b[0;36m  File \u001b[0;32m\"<ipython-input-8-21f0811a3b3d>\"\u001b[0;36m, line \u001b[0;32m2\u001b[0m\n\u001b[0;31m    A. data frequency\u001b[0m\n\u001b[0m                    ^\u001b[0m\n\u001b[0;31mSyntaxError\u001b[0m\u001b[0;31m:\u001b[0m invalid syntax\n"
          ]
        }
      ]
    },
    {
      "cell_type": "code",
      "metadata": {
        "id": "C-druAVKZcc9"
      },
      "source": [
        ""
      ],
      "execution_count": null,
      "outputs": []
    }
  ]
}